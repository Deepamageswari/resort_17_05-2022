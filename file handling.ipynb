{
 "cells": [
  {
   "cell_type": "code",
   "execution_count": null,
   "metadata": {},
   "outputs": [],
   "source": [
    "# create file only if it does not exists\n",
    "# otherwise append text to the file"
   ]
  },
  {
   "cell_type": "code",
   "execution_count": 185,
   "metadata": {},
   "outputs": [],
   "source": [
    "file=open(r'C:\\Users\\ELCOT\\OneDrive\\Desktop\\apple.txt','r')\n"
   ]
  },
  {
   "cell_type": "code",
   "execution_count": 182,
   "metadata": {},
   "outputs": [],
   "source": [
    "#then read the file - in the form of string\n",
    "d=file.read()"
   ]
  },
  {
   "cell_type": "code",
   "execution_count": 183,
   "metadata": {},
   "outputs": [
    {
     "name": "stdout",
     "output_type": "stream",
     "text": [
      "where are you fromapple\n",
      "mango\n",
      "orange\n",
      "pineapple\n",
      "apple\n",
      "orange\n",
      "mango\n",
      "\n"
     ]
    }
   ],
   "source": [
    "print(d)"
   ]
  },
  {
   "cell_type": "code",
   "execution_count": 123,
   "metadata": {
    "scrolled": true
   },
   "outputs": [
    {
     "name": "stdout",
     "output_type": "stream",
     "text": [
      "enterapple\n",
      "enterorange\n",
      "entermango\n",
      "enterquit\n"
     ]
    }
   ],
   "source": [
    "#keep inputting text till the user types QUIT to stop\n",
    "\n",
    "while True:\n",
    "    string=str(input(\"enter\"))\n",
    "    if string=='quit':\n",
    "        break\n",
    "    file.write(string)\n",
    "    file.write('\\n')\n",
    "    "
   ]
  },
  {
   "cell_type": "code",
   "execution_count": null,
   "metadata": {},
   "outputs": [],
   "source": [
    "'''find how many times (say) word success appears in the file\n",
    "display the FIRST and the LAST line from the file'''"
   ]
  },
  {
   "cell_type": "code",
   "execution_count": 186,
   "metadata": {},
   "outputs": [
    {
     "data": {
      "text/plain": [
       "'where are you fromapple\\n'"
      ]
     },
     "execution_count": 186,
     "metadata": {},
     "output_type": "execute_result"
    }
   ],
   "source": [
    "file.readline()"
   ]
  },
  {
   "cell_type": "code",
   "execution_count": 187,
   "metadata": {},
   "outputs": [
    {
     "name": "stdout",
     "output_type": "stream",
     "text": [
      "mango\n",
      "\n"
     ]
    }
   ],
   "source": [
    "for last_line in file:\n",
    "    break\n",
    "print(last_line)"
   ]
  },
  {
   "cell_type": "code",
   "execution_count": null,
   "metadata": {},
   "outputs": [],
   "source": [
    "'''2) input decimal numbers store in a file called data1.txt\n",
    "when the user types any NEGATIVE number - STOP'''"
   ]
  },
  {
   "cell_type": "code",
   "execution_count": 240,
   "metadata": {
    "scrolled": true
   },
   "outputs": [
    {
     "name": "stdout",
     "output_type": "stream",
     "text": [
      "1.0\n",
      "1.0\n",
      "\n"
     ]
    }
   ],
   "source": [
    "file1=open('data.txt','r')\n",
    "print(file1.read())"
   ]
  },
  {
   "cell_type": "code",
   "execution_count": 235,
   "metadata": {},
   "outputs": [
    {
     "name": "stdout",
     "output_type": "stream",
     "text": [
      "enter a decimal number-1\n"
     ]
    }
   ],
   "source": [
    "file1=open('data.txt','a')\n",
    "while True:\n",
    "    floating=float(input('enter a decimal number'))\n",
    "    if floating<0:\n",
    "        break\n",
    "    file1.write(str(floating))\n",
    "    filw1.write('\\n')\n"
   ]
  },
  {
   "cell_type": "code",
   "execution_count": 239,
   "metadata": {},
   "outputs": [
    {
     "name": "stdout",
     "output_type": "stream",
     "text": [
      "enter a decimal number1\n",
      "enter a decimal number1\n",
      "enter a decimal number-1\n"
     ]
    }
   ],
   "source": [
    "file1=open('data.txt','w')\n",
    "while True:\n",
    "    floating=float(input('enter a decimal number'))\n",
    "    if floating<0:\n",
    "        break\n",
    "    file1.write(str(floating))\n",
    "    file1.write('\\n')"
   ]
  },
  {
   "cell_type": "code",
   "execution_count": null,
   "metadata": {},
   "outputs": [],
   "source": [
    "#read all the numbers from the file, store it in a set"
   ]
  },
  {
   "cell_type": "code",
   "execution_count": 241,
   "metadata": {},
   "outputs": [
    {
     "name": "stdout",
     "output_type": "stream",
     "text": [
      "{'1.0\\n'}\n"
     ]
    }
   ],
   "source": [
    "set1=set()\n",
    "file1=open('data.txt','r')\n",
    "for i in file1:\n",
    "    set1.add(i)\n",
    "print(set1)\n",
    "    "
   ]
  },
  {
   "cell_type": "code",
   "execution_count": 242,
   "metadata": {},
   "outputs": [
    {
     "data": {
      "text/plain": [
       "['1.0\\n', '1.0\\n']"
      ]
     },
     "execution_count": 242,
     "metadata": {},
     "output_type": "execute_result"
    }
   ],
   "source": [
    "a=open('data.txt','r')\n",
    "a.readlines()"
   ]
  }
 ],
 "metadata": {
  "kernelspec": {
   "display_name": "Python 3",
   "language": "python",
   "name": "python3"
  },
  "language_info": {
   "codemirror_mode": {
    "name": "ipython",
    "version": 3
   },
   "file_extension": ".py",
   "mimetype": "text/x-python",
   "name": "python",
   "nbconvert_exporter": "python",
   "pygments_lexer": "ipython3",
   "version": "3.8.5"
  }
 },
 "nbformat": 4,
 "nbformat_minor": 4
}
